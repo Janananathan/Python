{
 "cells": [
  {
   "cell_type": "code",
   "execution_count": 10,
   "id": "6e16f5b2",
   "metadata": {},
   "outputs": [],
   "source": [
    "def exp(x,y):\n",
    "    try:\n",
    "        result=x/y\n",
    "    except ZeroDivisionError:\n",
    "        print(f\"y is {y}, can't divide by zero\")\n",
    "        return \"Failed\"\n",
    "    else:\n",
    "        print(\"sucess\")\n",
    "        return result\n",
    "    finally:\n",
    "        print(\"Good Job\")\n",
    "    \n",
    "    "
   ]
  },
  {
   "cell_type": "code",
   "execution_count": 11,
   "id": "4aedde57",
   "metadata": {},
   "outputs": [
    {
     "name": "stdout",
     "output_type": "stream",
     "text": [
      "sucess\n",
      "Good Job\n",
      "0.4\n",
      "y is 0, can't divide by zero\n",
      "Good Job\n",
      "Failed\n"
     ]
    }
   ],
   "source": [
    "print(exp(2,5))\n",
    "print(exp(3,0))"
   ]
  },
  {
   "cell_type": "code",
   "execution_count": null,
   "id": "04a36a20",
   "metadata": {},
   "outputs": [],
   "source": []
  }
 ],
 "metadata": {
  "kernelspec": {
   "display_name": "Python 3 (ipykernel)",
   "language": "python",
   "name": "python3"
  },
  "language_info": {
   "codemirror_mode": {
    "name": "ipython",
    "version": 3
   },
   "file_extension": ".py",
   "mimetype": "text/x-python",
   "name": "python",
   "nbconvert_exporter": "python",
   "pygments_lexer": "ipython3",
   "version": "3.9.12"
  }
 },
 "nbformat": 4,
 "nbformat_minor": 5
}
