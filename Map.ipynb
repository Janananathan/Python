{
 "cells": [
  {
   "cell_type": "code",
   "execution_count": 2,
   "id": "0a0208b3",
   "metadata": {},
   "outputs": [
    {
     "name": "stdout",
     "output_type": "stream",
     "text": [
      "[20, 35, 45]\n"
     ]
    }
   ],
   "source": [
    "#map\n",
    "my_l=[4,7,9]\n",
    "outp=map(lambda ele:ele*5,my_l)\n",
    "print(list(outp))"
   ]
  },
  {
   "cell_type": "code",
   "execution_count": null,
   "id": "42967347",
   "metadata": {},
   "outputs": [],
   "source": [
    "my1=[2,5,9,4]\n",
    "my2=[5,8,1,5]\n",
    "list(map(lambda ))"
   ]
  }
 ],
 "metadata": {
  "kernelspec": {
   "display_name": "Python 3 (ipykernel)",
   "language": "python",
   "name": "python3"
  },
  "language_info": {
   "codemirror_mode": {
    "name": "ipython",
    "version": 3
   },
   "file_extension": ".py",
   "mimetype": "text/x-python",
   "name": "python",
   "nbconvert_exporter": "python",
   "pygments_lexer": "ipython3",
   "version": "3.9.12"
  }
 },
 "nbformat": 4,
 "nbformat_minor": 5
}
