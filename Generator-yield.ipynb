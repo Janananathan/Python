{
 "cells": [
  {
   "cell_type": "code",
   "execution_count": 8,
   "id": "02109c4a",
   "metadata": {},
   "outputs": [],
   "source": [
    "#generators yield\n",
    "def yield_f(d):\n",
    "    for i in range(len(d)-1,-1,-1):\n",
    "        yield l[i]\n"
   ]
  },
  {
   "cell_type": "code",
   "execution_count": 11,
   "id": "bd7a7a7c",
   "metadata": {},
   "outputs": [
    {
     "name": "stdout",
     "output_type": "stream",
     "text": [
      "6\n",
      "5\n",
      "4\n",
      "3\n",
      "2\n"
     ]
    }
   ],
   "source": [
    "       \n",
    "l=[2,3,4,5,6]\n",
    "gen=yield_f(l)\n",
    "for i in gen:\n",
    "    print(i)"
   ]
  },
  {
   "cell_type": "code",
   "execution_count": null,
   "id": "30a156e0",
   "metadata": {},
   "outputs": [],
   "source": []
  }
 ],
 "metadata": {
  "kernelspec": {
   "display_name": "Python 3 (ipykernel)",
   "language": "python",
   "name": "python3"
  },
  "language_info": {
   "codemirror_mode": {
    "name": "ipython",
    "version": 3
   },
   "file_extension": ".py",
   "mimetype": "text/x-python",
   "name": "python",
   "nbconvert_exporter": "python",
   "pygments_lexer": "ipython3",
   "version": "3.9.12"
  }
 },
 "nbformat": 4,
 "nbformat_minor": 5
}
