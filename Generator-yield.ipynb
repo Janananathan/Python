{
 "cells": [
  {
   "cell_type": "code",
   "execution_count": 8,
   "id": "fa2ffeda",
   "metadata": {},
   "outputs": [],
   "source": [
    "#generators yield\n",
    "def yield_f(d):\n",
    "    for i in range(len(d)-1,-1,-1):\n",
    "        yield l[i]\n"
   ]
  },
  {
   "cell_type": "code",
   "execution_count": 9,
   "id": "68eec4f6",
   "metadata": {},
   "outputs": [
    {
     "name": "stdout",
     "output_type": "stream",
     "text": [
      "5\n",
      "3\n"
     ]
    },
    {
     "ename": "StopIteration",
     "evalue": "",
     "output_type": "error",
     "traceback": [
      "\u001b[1;31m---------------------------------------------------------------------------\u001b[0m",
      "\u001b[1;31mStopIteration\u001b[0m                             Traceback (most recent call last)",
      "Input \u001b[1;32mIn [9]\u001b[0m, in \u001b[0;36m<cell line: 3>\u001b[1;34m()\u001b[0m\n\u001b[0;32m      2\u001b[0m gen\u001b[38;5;241m=\u001b[39myield_f(l)\n\u001b[0;32m      3\u001b[0m \u001b[38;5;28;01mfor\u001b[39;00m i \u001b[38;5;129;01min\u001b[39;00m gen:\n\u001b[1;32m----> 4\u001b[0m     \u001b[38;5;28mprint\u001b[39m(\u001b[38;5;28;43mnext\u001b[39;49m\u001b[43m(\u001b[49m\u001b[43mgen\u001b[49m\u001b[43m)\u001b[49m)\n",
      "\u001b[1;31mStopIteration\u001b[0m: "
     ]
    }
   ],
   "source": [
    "       \n",
    "l=[2,3,4,5,6]\n",
    "gen=yield_f(l)\n",
    "for i in gen:\n",
    "    print(gen))"
   ]
  },
  {
   "cell_type": "code",
   "execution_count": null,
   "id": "a97ee573",
   "metadata": {},
   "outputs": [],
   "source": []
  }
 ],
 "metadata": {
  "kernelspec": {
   "display_name": "Python 3 (ipykernel)",
   "language": "python",
   "name": "python3"
  },
  "language_info": {
   "codemirror_mode": {
    "name": "ipython",
    "version": 3
   },
   "file_extension": ".py",
   "mimetype": "text/x-python",
   "name": "python",
   "nbconvert_exporter": "python",
   "pygments_lexer": "ipython3",
   "version": "3.9.12"
  }
 },
 "nbformat": 4,
 "nbformat_minor": 5
}
