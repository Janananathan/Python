{
 "cells": [
  {
   "cell_type": "code",
   "execution_count": 1,
   "id": "97127731",
   "metadata": {},
   "outputs": [
    {
     "name": "stdout",
     "output_type": "stream",
     "text": [
      "18\n"
     ]
    }
   ],
   "source": [
    "multi=lambda x,y:x*y\n",
    "print(multi(3,6))"
   ]
  },
  {
   "cell_type": "code",
   "execution_count": 38,
   "id": "2869246a",
   "metadata": {},
   "outputs": [
    {
     "name": "stdout",
     "output_type": "stream",
     "text": [
      "[[1, 2, 3, 4], [2, 3, 4, 5], [3, 4, 5, 6]]\n",
      "[1, 2, 3, 4]\n",
      "[2, 3, 4, 5]\n",
      "[3, 4, 5, 6]\n"
     ]
    }
   ],
   "source": [
    "list=[[1,2,3,4],[2,3,4,5],[3,4,5,6]]\n",
    "print(list)\n",
    "for i in list:\n",
    "    print(i)\n",
    "    dit={i:i+1}"
   ]
  },
  {
   "cell_type": "code",
   "execution_count": 51,
   "id": "ee6bdf55",
   "metadata": {},
   "outputs": [
    {
     "name": "stdout",
     "output_type": "stream",
     "text": [
      "[{1: 2, 3: 4}, {2: 3, 4: 5}, {3: 4, 5: 6}]\n",
      "4\n"
     ]
    }
   ],
   "source": [
    "dic=dict()\n",
    "l=[]\n",
    "for j in range(0,len(list)):\n",
    "    dic=({list[j][i]:list[j][i+1] for i in range(0,len(list),2)})\n",
    "    l.append(dic)\n",
    "print(l)\n",
    "print(l[0][3])"
   ]
  },
  {
   "cell_type": "code",
   "execution_count": null,
   "id": "605657e7",
   "metadata": {},
   "outputs": [],
   "source": []
  }
 ],
 "metadata": {
  "kernelspec": {
   "display_name": "Python 3 (ipykernel)",
   "language": "python",
   "name": "python3"
  },
  "language_info": {
   "codemirror_mode": {
    "name": "ipython",
    "version": 3
   },
   "file_extension": ".py",
   "mimetype": "text/x-python",
   "name": "python",
   "nbconvert_exporter": "python",
   "pygments_lexer": "ipython3",
   "version": "3.9.12"
  }
 },
 "nbformat": 4,
 "nbformat_minor": 5
}
