{
 "cells": [
  {
   "cell_type": "code",
   "execution_count": 6,
   "id": "4767961d",
   "metadata": {},
   "outputs": [
    {
     "name": "stdout",
     "output_type": "stream",
     "text": [
      "Hello Bye"
     ]
    }
   ],
   "source": [
    "print('Hello',\n",
    "      end=(' Bye'))"
   ]
  },
  {
   "cell_type": "code",
   "execution_count": 7,
   "id": "e494cae0",
   "metadata": {},
   "outputs": [
    {
     "name": "stdout",
     "output_type": "stream",
     "text": [
      "<class 'int'>\n"
     ]
    }
   ],
   "source": [
    "print(type(1234))"
   ]
  },
  {
   "cell_type": "code",
   "execution_count": 8,
   "id": "44ee2254",
   "metadata": {},
   "outputs": [
    {
     "name": "stdout",
     "output_type": "stream",
     "text": [
      "2\n"
     ]
    }
   ],
   "source": [
    "x=1\n",
    "x=2\n",
    "print(x)"
   ]
  },
  {
   "cell_type": "code",
   "execution_count": 9,
   "id": "2a610d5f",
   "metadata": {},
   "outputs": [
    {
     "name": "stdout",
     "output_type": "stream",
     "text": [
      "20000.0\n"
     ]
    }
   ],
   "source": [
    "print(.2e5)"
   ]
  },
  {
   "cell_type": "code",
   "execution_count": 10,
   "id": "b9f3c283",
   "metadata": {},
   "outputs": [
    {
     "name": "stdout",
     "output_type": "stream",
     "text": [
      "True\n"
     ]
    }
   ],
   "source": [
    "print ('jana' in 'janananathan')"
   ]
  },
  {
   "cell_type": "code",
   "execution_count": 24,
   "id": "527d552f",
   "metadata": {},
   "outputs": [
    {
     "name": "stdout",
     "output_type": "stream",
     "text": [
      "4\n",
      "1\n"
     ]
    }
   ],
   "source": [
    "str=\"I am a coder\"\n",
    "print(len(str[0:4]))\n",
    "print(len(str[-1]))"
   ]
  },
  {
   "cell_type": "code",
   "execution_count": null,
   "id": "a73ca75d",
   "metadata": {},
   "outputs": [],
   "source": []
  },
  {
   "cell_type": "code",
   "execution_count": null,
   "id": "c3317f9c",
   "metadata": {},
   "outputs": [],
   "source": []
  }
 ],
 "metadata": {
  "kernelspec": {
   "display_name": "Python 3 (ipykernel)",
   "language": "python",
   "name": "python3"
  },
  "language_info": {
   "codemirror_mode": {
    "name": "ipython",
    "version": 3
   },
   "file_extension": ".py",
   "mimetype": "text/x-python",
   "name": "python",
   "nbconvert_exporter": "python",
   "pygments_lexer": "ipython3",
   "version": "3.9.12"
  }
 },
 "nbformat": 4,
 "nbformat_minor": 5
}
