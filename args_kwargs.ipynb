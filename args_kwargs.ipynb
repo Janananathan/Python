{
 "cells": [
  {
   "cell_type": "code",
   "execution_count": 14,
   "id": "c4c8e00d",
   "metadata": {},
   "outputs": [
    {
     "name": "stdout",
     "output_type": "stream",
     "text": [
      "[2, 5, 7, 2, 2, 5, 7, 2, 2, 5, 7, 2, 2, 5, 7, 2]k[2, 5, 7, 2, 2, 5, 7, 2, 2, 5, 7, 2, 2, 5, 7, 2]\n"
     ]
    }
   ],
   "source": [
    "#args and kwargs\n",
    "def args_f(*args):\n",
    "    res=4\n",
    "    for i in args:\n",
    "        res=i*res\n",
    "        print(res,end=\"k\")\n",
    "    return res\n",
    "\n",
    "input_l=[2,5,7,2]\n",
    "print(args_f(input_l))"
   ]
  },
  {
   "cell_type": "code",
   "execution_count": 17,
   "id": "ab057759",
   "metadata": {},
   "outputs": [
    {
     "name": "stdout",
     "output_type": "stream",
     "text": [
      "x - 1\n",
      "y - 2\n",
      "z - 3\n"
     ]
    }
   ],
   "source": [
    "def kwargs_f(**kwargs):\n",
    "    for k,v in zip(kwargs.keys(),kwargs.values()):\n",
    "        print(k,\"-\",v)\n",
    "kwargs_f(x=1,y=2,z=3)"
   ]
  },
  {
   "cell_type": "code",
   "execution_count": null,
   "id": "f6ecbfda",
   "metadata": {},
   "outputs": [],
   "source": []
  }
 ],
 "metadata": {
  "kernelspec": {
   "display_name": "Python 3 (ipykernel)",
   "language": "python",
   "name": "python3"
  },
  "language_info": {
   "codemirror_mode": {
    "name": "ipython",
    "version": 3
   },
   "file_extension": ".py",
   "mimetype": "text/x-python",
   "name": "python",
   "nbconvert_exporter": "python",
   "pygments_lexer": "ipython3",
   "version": "3.9.12"
  }
 },
 "nbformat": 4,
 "nbformat_minor": 5
}
